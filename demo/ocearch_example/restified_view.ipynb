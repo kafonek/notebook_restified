{
 "cells": [
  {
   "cell_type": "code",
   "execution_count": 3,
   "metadata": {
    "ExecuteTime": {
     "end_time": "2019-06-06T15:26:10.781866Z",
     "start_time": "2019-06-06T15:26:10.508828Z"
    }
   },
   "outputs": [
    {
     "data": {
      "application/vnd.jupyter.widget-view+json": {
       "model_id": "b47fc621993c4fffad882a9c2446b78a",
       "version_major": 2,
       "version_minor": 0
      },
      "text/plain": [
       "VBox(children=(Dropdown(options=('', 'AB', 'ANZAC', 'Adelaide', 'Al', 'Albert', 'Albertina ', 'Alberto', 'Alic…"
      ]
     },
     "metadata": {},
     "output_type": "display_data"
    }
   ],
   "source": [
    "import ipywidgets as widgets\n",
    "import pandas\n",
    "\n",
    "df = pandas.read_csv('sharks_cleaned.csv')\n",
    "\n",
    "names = widgets.Dropdown(options=[''] + sorted(df.name.unique()))\n",
    "stats = widgets.Dropdown(options=['name', 'gender', 'weight', 'length', 'tagDate', 'first_seen', 'last_seen'])\n",
    "output = widgets.HTML(description='Result:')\n",
    "box = widgets.VBox(children=[names, stats, output])\n",
    "box"
   ]
  },
  {
   "cell_type": "code",
   "execution_count": 4,
   "metadata": {
    "ExecuteTime": {
     "end_time": "2019-06-06T15:26:10.791589Z",
     "start_time": "2019-06-06T15:26:10.781866Z"
    }
   },
   "outputs": [],
   "source": [
    "from notebook_restified import execute_notebook\n",
    "    \n",
    "def handler(w):\n",
    "    nb = 'model.ipynb'\n",
    "    params = {'name' : names.value,\n",
    "              'stat' : stats.value}\n",
    "    overrides = {'df' : df}\n",
    "    response = execute_notebook(nb, params, overrides=overrides)\n",
    "    output.value = str(response)\n",
    "    \n",
    "names.observe(handler, names='value')\n",
    "stats.observe(handler, names='value')  "
   ]
  },
  {
   "cell_type": "code",
   "execution_count": null,
   "metadata": {},
   "outputs": [],
   "source": []
  }
 ],
 "metadata": {
  "kernelspec": {
   "display_name": "Python 3",
   "language": "python",
   "name": "python3"
  },
  "language_info": {
   "codemirror_mode": {
    "name": "ipython",
    "version": 3
   },
   "file_extension": ".py",
   "mimetype": "text/x-python",
   "name": "python",
   "nbconvert_exporter": "python",
   "pygments_lexer": "ipython3",
   "version": "3.6.6"
  },
  "toc": {
   "base_numbering": 1,
   "nav_menu": {},
   "number_sections": true,
   "sideBar": true,
   "skip_h1_title": false,
   "title_cell": "Table of Contents",
   "title_sidebar": "Contents",
   "toc_cell": false,
   "toc_position": {},
   "toc_section_display": true,
   "toc_window_display": false
  }
 },
 "nbformat": 4,
 "nbformat_minor": 2
}
