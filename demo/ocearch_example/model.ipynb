{
 "cells": [
  {
   "cell_type": "markdown",
   "metadata": {},
   "source": [
    "### Introduction\n",
    "This Notebook explores a pre-cleaned dataset of GPS-tagged shark locations taken from the [Ocearch](https://www.ocearch.org/) site.  In this example, we'll briefly explore what the dataset looks like, then return one piece of information (gender, weight, first_seen, etc) from one specific shark.\n",
    "\n",
    "This notebook can be used in a data-exploration mode or used as a `notebook-restified` REST API or used as a callback for Dashboard apps by running this with `notebook_restified.execute_notebook` in an `on_click` / `observe` handler."
   ]
  },
  {
   "cell_type": "markdown",
   "metadata": {},
   "source": [
    "### Read in data\n",
    "In a data exploration mode or as a REST api, this notebook will read in the `sharks_cleaned.csv` file itself.  However that cell is tagged with `override` so another notebook may pass in the `df` object to this one if it is executing this notebook multiple times"
   ]
  },
  {
   "cell_type": "code",
   "execution_count": null,
   "metadata": {
    "ExecuteTime": {
     "end_time": "2019-06-06T16:50:13.296362Z",
     "start_time": "2019-06-06T16:50:13.287189Z"
    }
   },
   "outputs": [],
   "source": [
    "import pandas"
   ]
  },
  {
   "cell_type": "code",
   "execution_count": null,
   "metadata": {
    "ExecuteTime": {
     "end_time": "2019-06-06T16:50:14.064752Z",
     "start_time": "2019-06-06T16:50:13.665514Z"
    },
    "tags": [
     "override"
    ]
   },
   "outputs": [],
   "source": [
    "df = pandas.read_csv('sharks_cleaned.csv')\n",
    "df.shape"
   ]
  },
  {
   "cell_type": "markdown",
   "metadata": {},
   "source": [
    "### Explore data\n",
    "The following cells are just for data exploration.  They are tagged with `skip` which tells `notebook_restified.execute_notebook` to not run them, since they are not integral to running this notebook \"as a service\"."
   ]
  },
  {
   "cell_type": "code",
   "execution_count": null,
   "metadata": {
    "ExecuteTime": {
     "end_time": "2019-06-06T16:50:14.491132Z",
     "start_time": "2019-06-06T16:50:14.464405Z"
    },
    "tags": [
     "skip"
    ]
   },
   "outputs": [],
   "source": [
    "df.name.value_counts().head()"
   ]
  },
  {
   "cell_type": "code",
   "execution_count": null,
   "metadata": {
    "ExecuteTime": {
     "end_time": "2019-06-06T16:50:16.791552Z",
     "start_time": "2019-06-06T16:50:16.777737Z"
    },
    "tags": [
     "skip"
    ]
   },
   "outputs": [],
   "source": [
    "df.iloc[0].to_dict()"
   ]
  },
  {
   "cell_type": "code",
   "execution_count": null,
   "metadata": {
    "ExecuteTime": {
     "end_time": "2019-06-06T16:50:17.306282Z",
     "start_time": "2019-06-06T16:50:17.269309Z"
    },
    "tags": [
     "skip"
    ]
   },
   "outputs": [],
   "source": [
    "df.head()"
   ]
  },
  {
   "cell_type": "markdown",
   "metadata": {},
   "source": [
    "### Define Parameters\n",
    "`notebook_restified.execute_notebook` uses [papermill.py](https://papermill.readthedocs.io/en/latest/) to parameterize notebooks, so tag any cells that have the \"function arguments\" for a notebook with the `parameters` tag."
   ]
  },
  {
   "cell_type": "code",
   "execution_count": null,
   "metadata": {
    "ExecuteTime": {
     "end_time": "2019-06-06T16:50:27.689105Z",
     "start_time": "2019-06-06T16:50:27.685363Z"
    },
    "tags": [
     "parameters"
    ]
   },
   "outputs": [],
   "source": [
    "name = 'Mary Lee'\n",
    "stat = 'weight'\n",
    "### also support stat of 'first_seen' and 'last_seen' that will do datetime calcs"
   ]
  },
  {
   "cell_type": "markdown",
   "metadata": {},
   "source": [
    "### Calculate answers"
   ]
  },
  {
   "cell_type": "code",
   "execution_count": null,
   "metadata": {
    "ExecuteTime": {
     "end_time": "2019-06-06T16:50:28.131413Z",
     "start_time": "2019-06-06T16:50:28.106100Z"
    }
   },
   "outputs": [],
   "source": [
    "subset = df[df.name == name]\n",
    "subset.shape"
   ]
  },
  {
   "cell_type": "code",
   "execution_count": null,
   "metadata": {
    "ExecuteTime": {
     "end_time": "2019-06-06T16:50:31.404309Z",
     "start_time": "2019-06-06T16:50:31.376027Z"
    },
    "tags": [
     "skip"
    ]
   },
   "outputs": [],
   "source": [
    "subset.head()"
   ]
  },
  {
   "cell_type": "code",
   "execution_count": null,
   "metadata": {
    "ExecuteTime": {
     "end_time": "2019-06-06T16:50:35.351212Z",
     "start_time": "2019-06-06T16:50:35.334740Z"
    }
   },
   "outputs": [],
   "source": [
    "first_seen = subset.datetime.min()\n",
    "last_seen = subset.datetime.max()\n",
    "first_seen, last_seen"
   ]
  },
  {
   "cell_type": "code",
   "execution_count": null,
   "metadata": {
    "ExecuteTime": {
     "end_time": "2019-06-06T16:50:37.739274Z",
     "start_time": "2019-06-06T16:50:37.725948Z"
    }
   },
   "outputs": [],
   "source": [
    "if stat == 'first_seen':\n",
    "    output = first_seen\n",
    "elif stat == 'last_seen':\n",
    "    output = last_seen\n",
    "else:\n",
    "    output = subset.iloc[0][stat]\n",
    "output"
   ]
  },
  {
   "cell_type": "markdown",
   "metadata": {},
   "source": [
    "### \"Return\" output\n",
    "In a data exploration mode, the next cell doesn't do anything useful, it just displays the same info as the cell above.  However it is tagged with `return` so whatever is returned from an `eval` of the code in the next cell is what `notebook_restified.execute_notebook` actually returns."
   ]
  },
  {
   "cell_type": "code",
   "execution_count": null,
   "metadata": {
    "ExecuteTime": {
     "end_time": "2019-06-06T16:50:54.105481Z",
     "start_time": "2019-06-06T16:50:54.096884Z"
    },
    "tags": [
     "return"
    ]
   },
   "outputs": [],
   "source": [
    "output"
   ]
  },
  {
   "cell_type": "code",
   "execution_count": null,
   "metadata": {},
   "outputs": [],
   "source": []
  }
 ],
 "metadata": {
  "celltoolbar": "Tags",
  "kernelspec": {
   "display_name": "Python 3",
   "language": "python",
   "name": "python3"
  },
  "language_info": {
   "codemirror_mode": {
    "name": "ipython",
    "version": 3
   },
   "file_extension": ".py",
   "mimetype": "text/x-python",
   "name": "python",
   "nbconvert_exporter": "python",
   "pygments_lexer": "ipython3",
   "version": "3.6.6"
  },
  "toc": {
   "base_numbering": 1,
   "nav_menu": {},
   "number_sections": true,
   "sideBar": true,
   "skip_h1_title": false,
   "title_cell": "Table of Contents",
   "title_sidebar": "Contents",
   "toc_cell": false,
   "toc_position": {},
   "toc_section_display": true,
   "toc_window_display": true
  }
 },
 "nbformat": 4,
 "nbformat_minor": 2
}
