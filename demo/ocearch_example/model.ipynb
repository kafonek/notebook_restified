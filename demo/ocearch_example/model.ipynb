{
 "cells": [
  {
   "cell_type": "code",
   "execution_count": null,
   "metadata": {
    "ExecuteTime": {
     "end_time": "2019-06-06T15:16:17.473650Z",
     "start_time": "2019-06-06T15:16:16.956538Z"
    }
   },
   "outputs": [],
   "source": [
    "import pandas"
   ]
  },
  {
   "cell_type": "code",
   "execution_count": null,
   "metadata": {
    "ExecuteTime": {
     "end_time": "2019-06-06T15:16:17.741435Z",
     "start_time": "2019-06-06T15:16:17.476403Z"
    },
    "tags": [
     "override"
    ]
   },
   "outputs": [],
   "source": [
    "df = pandas.read_csv('sharks_cleaned.csv')\n",
    "df.shape"
   ]
  },
  {
   "cell_type": "code",
   "execution_count": null,
   "metadata": {
    "ExecuteTime": {
     "end_time": "2019-06-06T15:16:17.776389Z",
     "start_time": "2019-06-06T15:16:17.744397Z"
    }
   },
   "outputs": [],
   "source": [
    "df.name.value_counts().head()"
   ]
  },
  {
   "cell_type": "code",
   "execution_count": null,
   "metadata": {
    "ExecuteTime": {
     "end_time": "2019-06-06T15:16:17.804403Z",
     "start_time": "2019-06-06T15:16:17.784388Z"
    }
   },
   "outputs": [],
   "source": [
    "df.iloc[0].to_dict()"
   ]
  },
  {
   "cell_type": "code",
   "execution_count": null,
   "metadata": {
    "ExecuteTime": {
     "end_time": "2019-06-06T15:16:17.829401Z",
     "start_time": "2019-06-06T15:16:17.810391Z"
    },
    "tags": [
     "parameters"
    ]
   },
   "outputs": [],
   "source": [
    "name = 'Mary Lee'\n",
    "stat = 'weight'\n",
    "### also support stat of 'first_seen' and 'last_seen' that will do datetime calcs"
   ]
  },
  {
   "cell_type": "code",
   "execution_count": null,
   "metadata": {
    "ExecuteTime": {
     "end_time": "2019-06-06T15:16:17.873389Z",
     "start_time": "2019-06-06T15:16:17.834398Z"
    }
   },
   "outputs": [],
   "source": [
    "subset = df[df.name == name]\n",
    "subset.shape"
   ]
  },
  {
   "cell_type": "code",
   "execution_count": null,
   "metadata": {
    "ExecuteTime": {
     "end_time": "2019-06-06T15:16:17.934388Z",
     "start_time": "2019-06-06T15:16:17.881406Z"
    }
   },
   "outputs": [],
   "source": [
    "subset.head()"
   ]
  },
  {
   "cell_type": "code",
   "execution_count": null,
   "metadata": {
    "ExecuteTime": {
     "end_time": "2019-06-06T15:16:17.958393Z",
     "start_time": "2019-06-06T15:16:17.939390Z"
    }
   },
   "outputs": [],
   "source": [
    "first_seen = subset.datetime.min()\n",
    "last_seen = subset.datetime.max()\n",
    "first_seen, last_seen"
   ]
  },
  {
   "cell_type": "code",
   "execution_count": null,
   "metadata": {
    "ExecuteTime": {
     "end_time": "2019-06-06T15:25:31.156069Z",
     "start_time": "2019-06-06T15:25:31.059024Z"
    }
   },
   "outputs": [],
   "source": [
    "if stat == 'first_seen':\n",
    "    output = first_seen\n",
    "elif stat == 'last_seen':\n",
    "    output = last_seen\n",
    "else:\n",
    "    output = subset.iloc[0][stat]\n",
    "output"
   ]
  },
  {
   "cell_type": "code",
   "execution_count": null,
   "metadata": {
    "tags": [
     "return"
    ]
   },
   "outputs": [],
   "source": [
    "output"
   ]
  }
 ],
 "metadata": {
  "celltoolbar": "Tags",
  "kernelspec": {
   "display_name": "Python 3",
   "language": "python",
   "name": "python3"
  },
  "language_info": {
   "codemirror_mode": {
    "name": "ipython",
    "version": 3
   },
   "file_extension": ".py",
   "mimetype": "text/x-python",
   "name": "python",
   "nbconvert_exporter": "python",
   "pygments_lexer": "ipython3",
   "version": "3.6.6"
  },
  "toc": {
   "base_numbering": 1,
   "nav_menu": {},
   "number_sections": true,
   "sideBar": true,
   "skip_h1_title": false,
   "title_cell": "Table of Contents",
   "title_sidebar": "Contents",
   "toc_cell": false,
   "toc_position": {},
   "toc_section_display": true,
   "toc_window_display": false
  }
 },
 "nbformat": 4,
 "nbformat_minor": 2
}
