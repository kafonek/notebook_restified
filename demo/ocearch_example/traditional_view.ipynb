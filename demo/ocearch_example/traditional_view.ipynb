{
 "cells": [
  {
   "cell_type": "code",
   "execution_count": null,
   "metadata": {
    "ExecuteTime": {
     "end_time": "2019-06-06T16:51:14.718752Z",
     "start_time": "2019-06-06T16:51:14.197951Z"
    }
   },
   "outputs": [],
   "source": [
    "import ipywidgets as widgets\n",
    "import pandas\n",
    "\n",
    "df = pandas.read_csv('sharks_cleaned.csv')\n",
    "\n",
    "names = widgets.Dropdown(options=[''] + sorted(df.name.unique()))\n",
    "stats = widgets.Dropdown(options=['name', 'gender', 'weight', 'length', 'tagDate', 'first_seen', 'last_seen'])\n",
    "output = widgets.HTML(description='Result:')\n",
    "box = widgets.VBox(children=[names, stats, output])\n",
    "box"
   ]
  },
  {
   "cell_type": "code",
   "execution_count": null,
   "metadata": {
    "ExecuteTime": {
     "end_time": "2019-06-06T16:51:14.734023Z",
     "start_time": "2019-06-06T16:51:14.723887Z"
    }
   },
   "outputs": [],
   "source": [
    "def application_logic(name, stat):\n",
    "    subset = df[df.name == name]\n",
    "    if stat == 'first_seen':\n",
    "        return subset.datetime.min()\n",
    "    elif stat == 'last_seen':\n",
    "        return subset.datetime.max()\n",
    "    else:\n",
    "        return subset.iloc[0][stat]\n",
    "    \n",
    "def handler(w):\n",
    "    params = {'name' : names.value,\n",
    "              'stat' : stats.value}\n",
    "    output.value = str(application_logic(**params))\n",
    "    \n",
    "names.observe(handler, names='value')\n",
    "stats.observe(handler, names='value')    "
   ]
  },
  {
   "cell_type": "code",
   "execution_count": null,
   "metadata": {},
   "outputs": [],
   "source": []
  }
 ],
 "metadata": {
  "kernelspec": {
   "display_name": "Python 3",
   "language": "python",
   "name": "python3"
  },
  "language_info": {
   "codemirror_mode": {
    "name": "ipython",
    "version": 3
   },
   "file_extension": ".py",
   "mimetype": "text/x-python",
   "name": "python",
   "nbconvert_exporter": "python",
   "pygments_lexer": "ipython3",
   "version": "3.6.6"
  },
  "toc": {
   "base_numbering": 1,
   "nav_menu": {},
   "number_sections": true,
   "sideBar": true,
   "skip_h1_title": false,
   "title_cell": "Table of Contents",
   "title_sidebar": "Contents",
   "toc_cell": false,
   "toc_position": {},
   "toc_section_display": true,
   "toc_window_display": false
  }
 },
 "nbformat": 4,
 "nbformat_minor": 2
}
