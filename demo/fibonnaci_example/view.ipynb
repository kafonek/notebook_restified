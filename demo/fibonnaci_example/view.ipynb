{
 "cells": [
  {
   "cell_type": "markdown",
   "metadata": {},
   "source": [
    "### Introduction\n",
    "\n",
    "This is a `View` Notebook to show an `IntSlider` widget either in an interactive Notebook or in a `Voila` Dashboard mode that will then print the [Fibonnaci sequence](https://en.wikipedia.org/wiki/Fibonacci_number) answer for that number. It will also show how long it takes each handler to calculate the number, which should demonstrate what kind of overhead is involved with `refactored code`, `PythonModel`, and `KernelModel`. "
   ]
  },
  {
   "cell_type": "code",
   "execution_count": null,
   "metadata": {
    "ExecuteTime": {
     "end_time": "2019-07-13T01:47:58.054164Z",
     "start_time": "2019-07-13T01:47:57.987185Z"
    }
   },
   "outputs": [],
   "source": [
    "import ipywidgets as widgets\n",
    "grid = widgets.GridspecLayout(4, 3)\n",
    "\n",
    "# top row\n",
    "input_label = widgets.Label(\"User Input\")\n",
    "user_input = widgets.IntText(value=1, description='Fibonnaci n:')\n",
    "grid[0, 0] = input_label\n",
    "grid[0, 1:] = user_input\n",
    "\n",
    "# refactored code row\n",
    "label1 = widgets.Label('Refactored code')\n",
    "output1 = widgets.Text(disabled=True, description='Result:')\n",
    "debug1 = widgets.Text(disabled=True, description='Debug:')\n",
    "grid[1, 0] = label1\n",
    "grid[1, 1] = output1\n",
    "grid[1, 2] = debug1\n",
    "\n",
    "# PythonModel row\n",
    "label2 = widgets.Label('PythonModel')\n",
    "output2 = widgets.Text(disabled=True, description='Result:')\n",
    "debug2 = widgets.Text(disabled=True, description='Debug:')\n",
    "grid[2, 0] = label2\n",
    "grid[2, 1] = output2\n",
    "grid[2, 2] = debug2\n",
    "\n",
    "# KernelModel row\n",
    "label3 = widgets.Label('KernelModel')\n",
    "output3 = widgets.Text(disabled=True, description='Result:')\n",
    "debug3 = widgets.Text(disabled=True, description='Debug:')\n",
    "grid[3, 0] = label3\n",
    "grid[3, 1] = output3\n",
    "grid[3, 2] = debug3\n",
    "\n",
    "grid"
   ]
  },
  {
   "cell_type": "code",
   "execution_count": null,
   "metadata": {
    "ExecuteTime": {
     "end_time": "2019-07-13T00:04:55.900910Z",
     "start_time": "2019-07-13T00:04:55.800831Z"
    }
   },
   "outputs": [],
   "source": [
    "import time"
   ]
  },
  {
   "cell_type": "code",
   "execution_count": null,
   "metadata": {
    "ExecuteTime": {
     "end_time": "2019-07-13T00:04:56.000964Z",
     "start_time": "2019-07-13T00:04:55.901926Z"
    }
   },
   "outputs": [],
   "source": [
    "### Refactored code handler\n",
    "def fibonacci_generator():\n",
    "    \"A generator that yields the last number in the sequence plus the number before that\"\n",
    "    a, b = 0, 1\n",
    "    while True:\n",
    "        yield a\n",
    "        tmp_value = b\n",
    "        b = a + b\n",
    "        a = tmp_value\n",
    "\n",
    "def handler1(ev):\n",
    "    start = time.time()\n",
    "    gen = fibonacci_generator()\n",
    "    n = user_input.value\n",
    "    for i in range(n+1):\n",
    "        answer = next(gen)\n",
    "    output1.value = str(answer)\n",
    "    debug1.value = 'took %.4f seconds' % (time.time() - start)\n",
    "    \n",
    "user_input.observe(handler1, names='value')"
   ]
  },
  {
   "cell_type": "code",
   "execution_count": null,
   "metadata": {
    "ExecuteTime": {
     "end_time": "2019-07-13T00:04:59.170758Z",
     "start_time": "2019-07-13T00:04:56.003929Z"
    }
   },
   "outputs": [],
   "source": [
    "### Create PythonModel and KernelModel objects\n",
    "import notebook_restified\n",
    "\n",
    "pm = notebook_restified.PythonModel('model.ipynb')\n",
    "km = notebook_restified.KernelModel('model.ipynb')"
   ]
  },
  {
   "cell_type": "code",
   "execution_count": null,
   "metadata": {
    "ExecuteTime": {
     "end_time": "2019-07-13T00:04:59.183748Z",
     "start_time": "2019-07-13T00:04:59.174748Z"
    }
   },
   "outputs": [],
   "source": [
    "### PythonModel handler\n",
    "def handler2(ev):\n",
    "    start = time.time()\n",
    "    params = {'n' : user_input.value}\n",
    "    result = pm.execute(params)\n",
    "    output2.value = str(result)\n",
    "    debug2.value = 'took %.4f seconds' % (time.time() - start)\n",
    "    \n",
    "user_input.observe(handler2, names='value')    "
   ]
  },
  {
   "cell_type": "code",
   "execution_count": null,
   "metadata": {
    "ExecuteTime": {
     "end_time": "2019-07-13T00:04:59.303365Z",
     "start_time": "2019-07-13T00:04:59.186748Z"
    }
   },
   "outputs": [],
   "source": [
    "### KernelModel handler\n",
    "def handler3(ev):\n",
    "    start = time.time()\n",
    "    params = {'n' : user_input.value}\n",
    "    result = km.execute(params)\n",
    "    output3.value = str(result)\n",
    "    debug3.value = 'took %.4f seconds' % (time.time() - start)\n",
    "    \n",
    "user_input.observe(handler3, names='value')    "
   ]
  },
  {
   "cell_type": "code",
   "execution_count": null,
   "metadata": {},
   "outputs": [],
   "source": []
  }
 ],
 "metadata": {
  "kernelspec": {
   "display_name": "Python3.6",
   "language": "python",
   "name": "py36"
  },
  "language_info": {
   "codemirror_mode": {
    "name": "ipython",
    "version": 3
   },
   "file_extension": ".py",
   "mimetype": "text/x-python",
   "name": "python",
   "nbconvert_exporter": "python",
   "pygments_lexer": "ipython3",
   "version": "3.7.2"
  },
  "toc": {
   "base_numbering": 1,
   "nav_menu": {},
   "number_sections": true,
   "sideBar": true,
   "skip_h1_title": false,
   "title_cell": "Table of Contents",
   "title_sidebar": "Contents",
   "toc_cell": false,
   "toc_position": {},
   "toc_section_display": true,
   "toc_window_display": false
  }
 },
 "nbformat": 4,
 "nbformat_minor": 4
}
