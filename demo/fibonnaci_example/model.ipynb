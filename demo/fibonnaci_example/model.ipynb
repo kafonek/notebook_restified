{
 "cells": [
  {
   "cell_type": "markdown",
   "metadata": {},
   "source": [
    "### Introduction\n",
    "Creating a function to generate the [Fibonnaci sequence](https://en.wikipedia.org/wiki/Fibonacci_number) is a classic way to show off any programming language.  In this Notebook, a `fibonnaci_generator` function will yield `n` numbers of Fibonnaci numbers.  \n",
    "\n",
    "Besides being an explanatory and exploratory Notebook about the Fibonnaci sequence, this Notebook will also act as a `Model`.  That means it can be parameterized and used in `View` Notebooks as a callback function or as a REST endpoint.  In this case, there is a single parameter `n`.  The return value is the `n`'th value of the sequence.\n",
    "\n",
    "To try this Notebook as a REST endpoint, replace `/notebooks/` with `/restified/` in the url and add `?n=#` for whatever number you want."
   ]
  },
  {
   "cell_type": "markdown",
   "metadata": {},
   "source": [
    "### Fibonnaci Generator\n",
    "There are examples of Python implementations for the Fibonnaci sequence all over the place.  If you wanted to get real performance out of this generator, look at mathematically-focused libraries like [sympy](https://docs.sympy.org/latest/modules/functions/combinatorial.html#sympy.functions.combinatorial.numbers.fibonacci) to generate the numbers.  This Notebook will use a common-but-naive generator approach"
   ]
  },
  {
   "cell_type": "code",
   "execution_count": null,
   "metadata": {
    "ExecuteTime": {
     "end_time": "2019-07-13T02:34:15.720384Z",
     "start_time": "2019-07-13T02:34:15.715385Z"
    }
   },
   "outputs": [],
   "source": [
    "def fibonacci_generator():\n",
    "    \"A generator that yields the last number in the sequence plus the number before that\"\n",
    "    a, b = 0, 1\n",
    "    while True:\n",
    "        yield a\n",
    "        tmp_value = b\n",
    "        b = a + b\n",
    "        a = tmp_value\n",
    "        "
   ]
  },
  {
   "cell_type": "markdown",
   "metadata": {},
   "source": [
    "#### Example\n",
    "Printing out the first 15 numbers in the sequence in order to compare this to the Wiki page as a basic sanity check that the generator works as expected.\n",
    "\n",
    "These cells have the tag `skip` because they are just for demonstration purposes -- they're not necessary to run when this Notebook is used as a `Model`."
   ]
  },
  {
   "cell_type": "code",
   "execution_count": null,
   "metadata": {
    "ExecuteTime": {
     "end_time": "2019-07-13T02:34:15.814121Z",
     "start_time": "2019-07-13T02:34:15.721384Z"
    },
    "tags": [
     "skip"
    ]
   },
   "outputs": [],
   "source": [
    "gen = fibonacci_generator()\n",
    "gen"
   ]
  },
  {
   "cell_type": "code",
   "execution_count": null,
   "metadata": {
    "ExecuteTime": {
     "end_time": "2019-07-13T02:34:15.921928Z",
     "start_time": "2019-07-13T02:34:15.815121Z"
    },
    "tags": [
     "skip"
    ]
   },
   "outputs": [],
   "source": [
    "for i in range(15):\n",
    "    print(\"Fib sequence %s: %s\" % (i, next(gen)))"
   ]
  },
  {
   "cell_type": "markdown",
   "metadata": {},
   "source": [
    "### Parameterization\n",
    "The next cell has the tag `parameters` so that it can be changed when this Notebook is run as a `Model` by other `View` Notebooks or as a REST endpoint.  The point of this \"parameterized\" Notebook is to return the `n`th Fibonnaci number (not zero-indexed).  That is to say:\n",
    "\n",
    " * `n` = 1 returns 1\n",
    " * `n` = 2 returns 1\n",
    " * `n` = 3 returns 2\n",
    " * `n` = 4 returns 3\n",
    " * `n` = 5 returns 5\n",
    " * `n` = 6 returns 8\n",
    " * ... etc"
   ]
  },
  {
   "cell_type": "code",
   "execution_count": null,
   "metadata": {
    "ExecuteTime": {
     "end_time": "2019-07-13T02:34:16.001341Z",
     "start_time": "2019-07-13T02:34:15.928925Z"
    },
    "tags": [
     "parameters"
    ]
   },
   "outputs": [],
   "source": [
    "n = 15"
   ]
  },
  {
   "cell_type": "markdown",
   "metadata": {},
   "source": [
    "### Generate answer"
   ]
  },
  {
   "cell_type": "code",
   "execution_count": null,
   "metadata": {
    "ExecuteTime": {
     "end_time": "2019-07-13T02:34:16.101640Z",
     "start_time": "2019-07-13T02:34:16.002344Z"
    }
   },
   "outputs": [],
   "source": [
    "gen = fibonacci_generator()\n",
    "gen"
   ]
  },
  {
   "cell_type": "code",
   "execution_count": null,
   "metadata": {
    "ExecuteTime": {
     "end_time": "2019-07-13T02:34:16.201663Z",
     "start_time": "2019-07-13T02:34:16.103625Z"
    }
   },
   "outputs": [],
   "source": [
    "answer = None\n",
    "n = int(n)\n",
    "for i in range(n+1): # n+1 because zero-based indexing\n",
    "    answer = next(gen)\n",
    "    \n",
    "answer"
   ]
  },
  {
   "cell_type": "markdown",
   "metadata": {},
   "source": [
    "### Return value\n",
    "The next cell is tagged with `return` and is considered the return value of this `Model` notebook when it is treated as a callback function or a REST endpoint."
   ]
  },
  {
   "cell_type": "code",
   "execution_count": null,
   "metadata": {
    "ExecuteTime": {
     "end_time": "2019-07-13T02:34:16.303270Z",
     "start_time": "2019-07-13T02:34:16.205662Z"
    },
    "tags": [
     "return"
    ]
   },
   "outputs": [],
   "source": [
    "answer"
   ]
  }
 ],
 "metadata": {
  "celltoolbar": "Tags",
  "kernelspec": {
   "display_name": "Python3.6",
   "language": "python",
   "name": "py36"
  },
  "language_info": {
   "codemirror_mode": {
    "name": "ipython",
    "version": 3
   },
   "file_extension": ".py",
   "mimetype": "text/x-python",
   "name": "python",
   "nbconvert_exporter": "python",
   "pygments_lexer": "ipython3",
   "version": "3.7.2"
  },
  "toc": {
   "base_numbering": 1,
   "nav_menu": {},
   "number_sections": true,
   "sideBar": true,
   "skip_h1_title": false,
   "title_cell": "Table of Contents",
   "title_sidebar": "Contents",
   "toc_cell": false,
   "toc_position": {
    "height": "calc(100% - 180px)",
    "left": "10px",
    "top": "150px",
    "width": "165px"
   },
   "toc_section_display": true,
   "toc_window_display": true
  }
 },
 "nbformat": 4,
 "nbformat_minor": 2
}
