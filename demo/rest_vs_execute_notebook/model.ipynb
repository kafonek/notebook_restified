{
 "cells": [
  {
   "cell_type": "markdown",
   "metadata": {},
   "source": [
    "### Introduction\n",
    "This model represents a simplified 'application logic' workflow that has some kind of time-consuming call (e.g. reading in data from a file or performing other lengthy setup).  The associated 'view' notebooks in this folder demonstrate how using `override` in the `execute_notebook` function is beneficial instead of simply calling all 'model' notebooks via the `/restified/` serverextension endpoint."
   ]
  },
  {
   "cell_type": "code",
   "execution_count": null,
   "metadata": {
    "ExecuteTime": {
     "end_time": "2019-06-08T09:19:46.286595Z",
     "start_time": "2019-06-08T09:19:44.253002Z"
    },
    "tags": [
     "override"
    ]
   },
   "outputs": [],
   "source": [
    "import time\n",
    "time.sleep(2)\n",
    "### simulating doing something or another\n",
    "initialized_data = 'some object'\n",
    "print('initial setup complete')"
   ]
  },
  {
   "cell_type": "code",
   "execution_count": null,
   "metadata": {
    "ExecuteTime": {
     "end_time": "2019-06-08T09:08:49.165001Z",
     "start_time": "2019-06-08T09:08:49.160264Z"
    },
    "tags": [
     "parameters"
    ]
   },
   "outputs": [],
   "source": [
    "x = 1\n",
    "y = 2\n",
    "# z will be computed"
   ]
  },
  {
   "cell_type": "code",
   "execution_count": null,
   "metadata": {
    "ExecuteTime": {
     "end_time": "2019-06-08T09:09:05.398001Z",
     "start_time": "2019-06-08T09:09:05.390123Z"
    },
    "tags": [
     "skip"
    ]
   },
   "outputs": [],
   "source": [
    "### simulating some data exploration\n",
    "print(x)"
   ]
  },
  {
   "cell_type": "code",
   "execution_count": null,
   "metadata": {
    "ExecuteTime": {
     "end_time": "2019-06-08T09:09:08.017543Z",
     "start_time": "2019-06-08T09:09:08.009438Z"
    },
    "tags": [
     "skip"
    ]
   },
   "outputs": [],
   "source": [
    "print(y)"
   ]
  },
  {
   "cell_type": "code",
   "execution_count": null,
   "metadata": {
    "ExecuteTime": {
     "end_time": "2019-06-08T09:09:15.157146Z",
     "start_time": "2019-06-08T09:09:15.139372Z"
    }
   },
   "outputs": [],
   "source": [
    "z = x * y\n",
    "z"
   ]
  },
  {
   "cell_type": "code",
   "execution_count": null,
   "metadata": {
    "ExecuteTime": {
     "end_time": "2019-06-08T09:09:16.557187Z",
     "start_time": "2019-06-08T09:09:16.549246Z"
    },
    "tags": [
     "return"
    ]
   },
   "outputs": [],
   "source": [
    "z"
   ]
  },
  {
   "cell_type": "code",
   "execution_count": null,
   "metadata": {},
   "outputs": [],
   "source": []
  }
 ],
 "metadata": {
  "celltoolbar": "Tags",
  "kernelspec": {
   "display_name": "Python 3",
   "language": "python",
   "name": "python3"
  },
  "language_info": {
   "codemirror_mode": {
    "name": "ipython",
    "version": 3
   },
   "file_extension": ".py",
   "mimetype": "text/x-python",
   "name": "python",
   "nbconvert_exporter": "python",
   "pygments_lexer": "ipython3",
   "version": "3.6.6"
  },
  "toc": {
   "base_numbering": 1,
   "nav_menu": {},
   "number_sections": true,
   "sideBar": true,
   "skip_h1_title": false,
   "title_cell": "Table of Contents",
   "title_sidebar": "Contents",
   "toc_cell": false,
   "toc_position": {},
   "toc_section_display": true,
   "toc_window_display": false
  }
 },
 "nbformat": 4,
 "nbformat_minor": 2
}
