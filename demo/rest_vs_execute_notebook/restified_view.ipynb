{
 "cells": [
  {
   "cell_type": "code",
   "execution_count": null,
   "metadata": {
    "ExecuteTime": {
     "end_time": "2019-06-08T11:33:16.482452Z",
     "start_time": "2019-06-08T11:33:16.110235Z"
    }
   },
   "outputs": [],
   "source": [
    "import ipywidgets as widgets\n",
    "\n",
    "import requests\n",
    "\n",
    "x_widget = widgets.IntText(value=1)\n",
    "y_widget = widgets.IntText(value=2)\n",
    "solution_widget = widgets.IntText(description=\"Solution:\", \n",
    "                                  value=x_widget.value * y_widget.value, \n",
    "                                  disabled=True)\n",
    "output = widgets.Output()\n",
    "box = widgets.VBox(children=[x_widget, y_widget, solution_widget, output])\n",
    "box"
   ]
  },
  {
   "cell_type": "markdown",
   "metadata": {},
   "source": [
    "### Handlers\n",
    "The first handler will use `execute_notebook` and pass in `overrides` to save the cost of recomputing expensive calculations.  \n",
    "\n",
    "The second handler will hit the `/restified/` endpoint of the same model, which doesn't have any way of recomputing expensive calculations.\n",
    "\n",
    "The point of this demo is to highlight that even though a model can be turned into a REST endpoint, if you are using the model notebook for callbacks in a Dashboard style app, it is better to use `execute_notebook`."
   ]
  },
  {
   "cell_type": "code",
   "execution_count": null,
   "metadata": {
    "ExecuteTime": {
     "end_time": "2019-06-08T11:33:18.548007Z",
     "start_time": "2019-06-08T11:33:16.488535Z"
    }
   },
   "outputs": [],
   "source": [
    "import time\n",
    "from notebook_restified import execute_notebook\n",
    "\n",
    "precomputed_data = 'some object' # simulating the lengthy setup call here\n",
    "\n",
    "def handler1(w):\n",
    "    start = time.time()\n",
    "    nb = 'model.ipynb'\n",
    "    params = {'x' : x_widget.value,\n",
    "              'y' : y_widget.value}\n",
    "    overrides = {'initialized_data' : precomputed_data}\n",
    "    solution = execute_notebook(nb, params, overrides)\n",
    "    solution_widget.value = solution\n",
    "    duration = time.time() - start\n",
    "    with output:\n",
    "        print(\"Calculated solution using execute_notebook with overrides, took %.2f seconds\" % duration)\n",
    "        \n",
    "x_widget.observe(handler1, names='value')"
   ]
  },
  {
   "cell_type": "code",
   "execution_count": null,
   "metadata": {
    "ExecuteTime": {
     "end_time": "2019-06-08T11:33:18.560425Z",
     "start_time": "2019-06-08T11:33:18.551834Z"
    }
   },
   "outputs": [],
   "source": [
    "### TODO: figure out how to auth and generate url programmatically in the next few cells"
   ]
  },
  {
   "cell_type": "code",
   "execution_count": null,
   "metadata": {
    "ExecuteTime": {
     "end_time": "2019-06-08T11:33:18.635528Z",
     "start_time": "2019-06-08T11:33:18.566600Z"
    }
   },
   "outputs": [],
   "source": [
    "import requests\n",
    "\n",
    "### Auth to set cookies\n",
    "session = requests.Session()\n",
    "auth_url = 'http://localhost:8888/?token=1536c2c66891aaba71c5ab5f1d4b3ec1c7b694b43f54aff0'\n",
    "resp = session.get(auth_url)\n",
    "resp"
   ]
  },
  {
   "cell_type": "code",
   "execution_count": null,
   "metadata": {
    "ExecuteTime": {
     "end_time": "2019-06-08T11:33:18.654394Z",
     "start_time": "2019-06-08T11:33:18.642401Z"
    }
   },
   "outputs": [],
   "source": [
    "model_url = 'http://localhost:8888/notebooks/demo/rest_vs_execute_notebook/model.ipynb'\n",
    "restified_url = model_url.replace('/notebooks/', '/restified/')\n",
    "restified_url"
   ]
  },
  {
   "cell_type": "code",
   "execution_count": null,
   "metadata": {
    "ExecuteTime": {
     "end_time": "2019-06-08T11:34:54.340451Z",
     "start_time": "2019-06-08T11:34:52.268518Z"
    }
   },
   "outputs": [],
   "source": [
    "params = {'x' : 1, 'y' : 3}\n",
    "resp = session.get(restified_url, params=params)\n",
    "resp"
   ]
  },
  {
   "cell_type": "code",
   "execution_count": null,
   "metadata": {
    "ExecuteTime": {
     "end_time": "2019-06-08T11:34:54.888252Z",
     "start_time": "2019-06-08T11:34:54.877576Z"
    }
   },
   "outputs": [],
   "source": [
    "resp.text"
   ]
  },
  {
   "cell_type": "code",
   "execution_count": null,
   "metadata": {
    "ExecuteTime": {
     "end_time": "2019-06-08T11:33:18.689039Z",
     "start_time": "2019-06-08T11:33:18.663265Z"
    }
   },
   "outputs": [],
   "source": [
    "def handler2(w):\n",
    "    start = time.time()\n",
    "    params = {'x' : x_widget.value,\n",
    "              'y' : y_widget.value}\n",
    "    resp = session.get(restified_url, params=params)\n",
    "    solution = resp.text\n",
    "    solution_widget.value = int(solution)\n",
    "    duration = time.time() - start\n",
    "    with output:\n",
    "        print(\"Calculated solution using requests.py without overrides, took %.2f seconds\" % duration)\n",
    "        \n",
    "y_widget.observe(handler2, names='value')"
   ]
  },
  {
   "cell_type": "code",
   "execution_count": null,
   "metadata": {},
   "outputs": [],
   "source": []
  }
 ],
 "metadata": {
  "kernelspec": {
   "display_name": "Python 3",
   "language": "python",
   "name": "python3"
  },
  "language_info": {
   "codemirror_mode": {
    "name": "ipython",
    "version": 3
   },
   "file_extension": ".py",
   "mimetype": "text/x-python",
   "name": "python",
   "nbconvert_exporter": "python",
   "pygments_lexer": "ipython3",
   "version": "3.6.6"
  },
  "toc": {
   "base_numbering": 1,
   "nav_menu": {},
   "number_sections": true,
   "sideBar": true,
   "skip_h1_title": false,
   "title_cell": "Table of Contents",
   "title_sidebar": "Contents",
   "toc_cell": false,
   "toc_position": {},
   "toc_section_display": true,
   "toc_window_display": false
  }
 },
 "nbformat": 4,
 "nbformat_minor": 2
}
