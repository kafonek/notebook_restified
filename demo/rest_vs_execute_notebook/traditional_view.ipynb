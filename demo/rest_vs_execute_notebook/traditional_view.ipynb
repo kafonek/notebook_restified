{
 "cells": [
  {
   "cell_type": "code",
   "execution_count": null,
   "metadata": {
    "ExecuteTime": {
     "end_time": "2019-06-08T09:16:25.608396Z",
     "start_time": "2019-06-08T09:16:25.547875Z"
    }
   },
   "outputs": [],
   "source": [
    "import ipywidgets as widgets\n",
    "\n",
    "x_widget = widgets.IntText(value=1)\n",
    "y_widget = widgets.IntText(value=2)\n",
    "solution_widget = widgets.IntText(description=\"Solution:\", \n",
    "                                  value=x_widget.value * y_widget.value, \n",
    "                                  disabled=True)\n",
    "box = widgets.VBox(children=[x_widget, y_widget, solution_widget])\n",
    "box"
   ]
  },
  {
   "cell_type": "code",
   "execution_count": null,
   "metadata": {
    "ExecuteTime": {
     "end_time": "2019-06-08T09:16:25.715768Z",
     "start_time": "2019-06-08T09:16:25.707586Z"
    }
   },
   "outputs": [],
   "source": [
    "def handler(w):\n",
    "    x = x_widget.value\n",
    "    y = y_widget.value\n",
    "    solution = x * y\n",
    "    solution_widget.value = solution\n",
    "    \n",
    "x_widget.observe(handler)\n",
    "y_widget.observe(handler)"
   ]
  },
  {
   "cell_type": "code",
   "execution_count": null,
   "metadata": {},
   "outputs": [],
   "source": []
  }
 ],
 "metadata": {
  "kernelspec": {
   "display_name": "Python 3",
   "language": "python",
   "name": "python3"
  },
  "language_info": {
   "codemirror_mode": {
    "name": "ipython",
    "version": 3
   },
   "file_extension": ".py",
   "mimetype": "text/x-python",
   "name": "python",
   "nbconvert_exporter": "python",
   "pygments_lexer": "ipython3",
   "version": "3.6.6"
  },
  "toc": {
   "base_numbering": 1,
   "nav_menu": {},
   "number_sections": true,
   "sideBar": true,
   "skip_h1_title": false,
   "title_cell": "Table of Contents",
   "title_sidebar": "Contents",
   "toc_cell": false,
   "toc_position": {},
   "toc_section_display": true,
   "toc_window_display": false
  }
 },
 "nbformat": 4,
 "nbformat_minor": 2
}
