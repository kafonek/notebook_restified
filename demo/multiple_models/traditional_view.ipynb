{
 "cells": [
  {
   "cell_type": "code",
   "execution_count": null,
   "metadata": {
    "ExecuteTime": {
     "end_time": "2019-06-08T08:46:45.071684Z",
     "start_time": "2019-06-08T08:46:44.993044Z"
    }
   },
   "outputs": [],
   "source": [
    "import ipywidgets as widgets\n",
    "\n",
    "text_box = widgets.Text(value='foo bar baz')\n",
    "transform_method = widgets.Dropdown(options=['uppercase', 'reverse'])\n",
    "button = widgets.Button(description=\"Transform\", button_style='success')\n",
    "output = widgets.HTML(disabled=True)\n",
    "box = widgets.VBox(children=[text_box, transform_method, button, output])\n",
    "box"
   ]
  },
  {
   "cell_type": "code",
   "execution_count": null,
   "metadata": {
    "ExecuteTime": {
     "end_time": "2019-06-08T08:48:13.066319Z",
     "start_time": "2019-06-08T08:48:13.060253Z"
    }
   },
   "outputs": [],
   "source": [
    "def handler(w):\n",
    "    text = text_box.value\n",
    "    \n",
    "    if transform_method.value == 'uppercase':\n",
    "        transform = text.upper()\n",
    "    elif transform_method.value == 'reverse':\n",
    "        transform = ' '.join(reversed(text.split()))\n",
    "    output.value = \"Result: %s\" % transform\n",
    "    \n",
    "button.on_click(handler)"
   ]
  },
  {
   "cell_type": "code",
   "execution_count": null,
   "metadata": {},
   "outputs": [],
   "source": []
  }
 ],
 "metadata": {
  "kernelspec": {
   "display_name": "Python 3",
   "language": "python",
   "name": "python3"
  },
  "language_info": {
   "codemirror_mode": {
    "name": "ipython",
    "version": 3
   },
   "file_extension": ".py",
   "mimetype": "text/x-python",
   "name": "python",
   "nbconvert_exporter": "python",
   "pygments_lexer": "ipython3",
   "version": "3.6.6"
  },
  "toc": {
   "base_numbering": 1,
   "nav_menu": {},
   "number_sections": true,
   "sideBar": true,
   "skip_h1_title": false,
   "title_cell": "Table of Contents",
   "title_sidebar": "Contents",
   "toc_cell": false,
   "toc_position": {},
   "toc_section_display": true,
   "toc_window_display": false
  }
 },
 "nbformat": 4,
 "nbformat_minor": 2
}
