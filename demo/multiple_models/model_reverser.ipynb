{
 "cells": [
  {
   "cell_type": "markdown",
   "metadata": {},
   "source": [
    "### Introduction\n",
    "This model is an overly simplistic 'application logic' notebook.  It takes a string input and returns the words in reverse order.  E.g. if the input is `foo bar baz`, it returns `baz bar foo`.\n",
    "\n",
    "It still includes three cell metadata tags for demonstration purposes: \n",
    " * `parameters` is for a cell with variables that should be parameterized\n",
    " * `skip` is for cells that don't need to run when this notebook is executed 'as a function'\n",
    " * `return` is the cell that will return data during 'as a function' execution via an `eval` call"
   ]
  },
  {
   "cell_type": "code",
   "execution_count": null,
   "metadata": {
    "ExecuteTime": {
     "end_time": "2019-06-08T07:47:56.991006Z",
     "start_time": "2019-06-08T07:47:56.984091Z"
    },
    "tags": [
     "parameters"
    ]
   },
   "outputs": [],
   "source": [
    "text = 'foo bar baz'"
   ]
  },
  {
   "cell_type": "code",
   "execution_count": null,
   "metadata": {
    "ExecuteTime": {
     "end_time": "2019-06-08T07:47:58.896163Z",
     "start_time": "2019-06-08T07:47:58.881810Z"
    },
    "tags": [
     "skip"
    ]
   },
   "outputs": [],
   "source": [
    "print(text)"
   ]
  },
  {
   "cell_type": "code",
   "execution_count": null,
   "metadata": {
    "ExecuteTime": {
     "end_time": "2019-06-08T07:48:37.716446Z",
     "start_time": "2019-06-08T07:48:37.708831Z"
    }
   },
   "outputs": [],
   "source": [
    "transform = ' '.join(reversed(text.split()))\n",
    "transform"
   ]
  },
  {
   "cell_type": "code",
   "execution_count": null,
   "metadata": {
    "ExecuteTime": {
     "end_time": "2019-06-08T07:48:41.113513Z",
     "start_time": "2019-06-08T07:48:41.102066Z"
    },
    "tags": [
     "return"
    ]
   },
   "outputs": [],
   "source": [
    "transform"
   ]
  },
  {
   "cell_type": "code",
   "execution_count": null,
   "metadata": {},
   "outputs": [],
   "source": []
  }
 ],
 "metadata": {
  "celltoolbar": "Tags",
  "kernelspec": {
   "display_name": "Python 3",
   "language": "python",
   "name": "python3"
  },
  "language_info": {
   "codemirror_mode": {
    "name": "ipython",
    "version": 3
   },
   "file_extension": ".py",
   "mimetype": "text/x-python",
   "name": "python",
   "nbconvert_exporter": "python",
   "pygments_lexer": "ipython3",
   "version": "3.6.6"
  },
  "toc": {
   "base_numbering": 1,
   "nav_menu": {},
   "number_sections": true,
   "sideBar": true,
   "skip_h1_title": false,
   "title_cell": "Table of Contents",
   "title_sidebar": "Contents",
   "toc_cell": false,
   "toc_position": {},
   "toc_section_display": true,
   "toc_window_display": false
  }
 },
 "nbformat": 4,
 "nbformat_minor": 2
}
