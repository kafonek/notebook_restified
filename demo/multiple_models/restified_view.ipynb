{
 "cells": [
  {
   "cell_type": "code",
   "execution_count": 3,
   "metadata": {
    "ExecuteTime": {
     "end_time": "2019-06-08T09:00:14.237588Z",
     "start_time": "2019-06-08T09:00:14.145140Z"
    }
   },
   "outputs": [
    {
     "data": {
      "application/vnd.jupyter.widget-view+json": {
       "model_id": "51fea645d45a4d1e9bbca92d6e160a9d",
       "version_major": 2,
       "version_minor": 0
      },
      "text/plain": [
       "VBox(children=(Text(value='foo bar baz'), Dropdown(options=('uppercase', 'reverse'), value='uppercase'), Butto…"
      ]
     },
     "metadata": {},
     "output_type": "display_data"
    }
   ],
   "source": [
    "import ipywidgets as widgets\n",
    "\n",
    "text_box = widgets.Text(value='foo bar baz')\n",
    "transform_method = widgets.Dropdown(options=['uppercase', 'reverse'])\n",
    "button = widgets.Button(description=\"Transform\", button_style='success')\n",
    "output = widgets.HTML(disabled=True)\n",
    "box = widgets.VBox(children=[text_box, transform_method, button, output])\n",
    "box"
   ]
  },
  {
   "cell_type": "code",
   "execution_count": 4,
   "metadata": {
    "ExecuteTime": {
     "end_time": "2019-06-08T09:00:14.294764Z",
     "start_time": "2019-06-08T09:00:14.282846Z"
    }
   },
   "outputs": [],
   "source": [
    "from notebook_restified import execute_notebook\n",
    "\n",
    "def handler(w):\n",
    "    if transform_method.value == 'uppercase':\n",
    "        nb = 'model_upper_case.ipynb'\n",
    "        \n",
    "    elif transform_method.value == 'reverse':\n",
    "        nb = 'model_reverser.ipynb'\n",
    "        \n",
    "    params = {'text' : text_box.value}  \n",
    "    transform = execute_notebook(nb, params)    \n",
    "    output.value = \"Result: %s\" % transform\n",
    "    \n",
    "button.on_click(handler)"
   ]
  },
  {
   "cell_type": "code",
   "execution_count": null,
   "metadata": {},
   "outputs": [],
   "source": []
  }
 ],
 "metadata": {
  "kernelspec": {
   "display_name": "Python 3",
   "language": "python",
   "name": "python3"
  },
  "language_info": {
   "codemirror_mode": {
    "name": "ipython",
    "version": 3
   },
   "file_extension": ".py",
   "mimetype": "text/x-python",
   "name": "python",
   "nbconvert_exporter": "python",
   "pygments_lexer": "ipython3",
   "version": "3.6.6"
  },
  "toc": {
   "base_numbering": 1,
   "nav_menu": {},
   "number_sections": true,
   "sideBar": true,
   "skip_h1_title": false,
   "title_cell": "Table of Contents",
   "title_sidebar": "Contents",
   "toc_cell": false,
   "toc_position": {},
   "toc_section_display": true,
   "toc_window_display": false
  }
 },
 "nbformat": 4,
 "nbformat_minor": 2
}
