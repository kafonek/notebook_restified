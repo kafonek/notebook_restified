{
 "cells": [
  {
   "cell_type": "markdown",
   "metadata": {},
   "source": [
    "### Introduction\n",
    "This Notebook implements the 'application logic' of an incredibly simple function that just takes a string input (`text`) and an integer (`multiplier`) and returns the string `text * multiplier`. \n",
    "\n",
    "While there isn't much 'data exploration' to do in this workflow, this trivial example serves to demonstrate that a notebook can be thought of in two important contexts:\n",
    " * Verbosely documented workflow with lots of insight into the workflow\n",
    " * As a function with input parameters and a return value"
   ]
  },
  {
   "cell_type": "markdown",
   "metadata": {},
   "source": [
    "### Parameters\n",
    "`notebook_restified` uses [papermill](https://papermill.readthedocs.io/en/latest/) behind the scenes to parameterize and execute notebooks.  Therefore to tag cells with variables that may be overwritten (parameterized), use the `parameters` cell tag."
   ]
  },
  {
   "cell_type": "code",
   "execution_count": null,
   "metadata": {
    "ExecuteTime": {
     "end_time": "2019-06-07T13:26:58.493412Z",
     "start_time": "2019-06-07T13:26:58.485725Z"
    },
    "tags": [
     "parameters"
    ]
   },
   "outputs": [],
   "source": [
    "text = 'foo'\n",
    "multiplier = 3"
   ]
  },
  {
   "cell_type": "code",
   "execution_count": null,
   "metadata": {
    "ExecuteTime": {
     "end_time": "2019-06-07T13:26:58.753951Z",
     "start_time": "2019-06-07T13:26:58.732959Z"
    }
   },
   "outputs": [],
   "source": [
    "output = text * int(multiplier)\n",
    "output"
   ]
  },
  {
   "cell_type": "markdown",
   "metadata": {},
   "source": [
    "### Return value\n",
    "Use the `return` tag to specify what should be returned when this notebook is run \"as a function\".  `notebook_restified` is basically running an `eval` on the cell with the `return` tag so that cell is very limited in what it can do: no value assignment, no `if` statements, not much else either. "
   ]
  },
  {
   "cell_type": "code",
   "execution_count": null,
   "metadata": {
    "ExecuteTime": {
     "end_time": "2019-06-07T13:26:59.609581Z",
     "start_time": "2019-06-07T13:26:59.602834Z"
    },
    "tags": [
     "return"
    ]
   },
   "outputs": [],
   "source": [
    "output"
   ]
  },
  {
   "cell_type": "code",
   "execution_count": null,
   "metadata": {},
   "outputs": [],
   "source": []
  }
 ],
 "metadata": {
  "celltoolbar": "Tags",
  "kernelspec": {
   "display_name": "Python 3",
   "language": "python",
   "name": "python3"
  },
  "language_info": {
   "codemirror_mode": {
    "name": "ipython",
    "version": 3
   },
   "file_extension": ".py",
   "mimetype": "text/x-python",
   "name": "python",
   "nbconvert_exporter": "python",
   "pygments_lexer": "ipython3",
   "version": "3.6.6"
  },
  "toc": {
   "base_numbering": 1,
   "nav_menu": {},
   "number_sections": true,
   "sideBar": true,
   "skip_h1_title": false,
   "title_cell": "Table of Contents",
   "title_sidebar": "Contents",
   "toc_cell": false,
   "toc_position": {},
   "toc_section_display": true,
   "toc_window_display": true
  }
 },
 "nbformat": 4,
 "nbformat_minor": 2
}
