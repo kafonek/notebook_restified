{
 "cells": [
  {
   "cell_type": "code",
   "execution_count": null,
   "metadata": {
    "ExecuteTime": {
     "end_time": "2019-06-06T16:58:41.195785Z",
     "start_time": "2019-06-06T16:58:41.127268Z"
    }
   },
   "outputs": [],
   "source": [
    "import ipywidgets as widgets\n",
    "\n",
    "text_box = widgets.Text(description=\"Text:\")\n",
    "int_box = widgets.IntSlider(description=\"Multiplier:\")\n",
    "run = widgets.Button(description=\"Run\", button_style='success')\n",
    "box = widgets.VBox(children=[text_box, int_box, run])\n",
    "box"
   ]
  },
  {
   "cell_type": "code",
   "execution_count": null,
   "metadata": {
    "ExecuteTime": {
     "end_time": "2019-06-06T16:58:41.408664Z",
     "start_time": "2019-06-06T16:58:41.387538Z"
    }
   },
   "outputs": [],
   "source": [
    "display = widgets.HTML(description=\"Result:\")\n",
    "\n",
    "from notebook_restified import execute_notebook\n",
    "\n",
    "def handler(w):\n",
    "    nb = 'model.ipynb'\n",
    "    parameters = {'text' : text_box.value,\n",
    "                  'multiplier' : int_box.value}\n",
    "    output = execute_notebook(nb, parameters)\n",
    "    display.value = output\n",
    "        \n",
    "run.on_click(handler)\n",
    "display"
   ]
  },
  {
   "cell_type": "code",
   "execution_count": null,
   "metadata": {},
   "outputs": [],
   "source": []
  }
 ],
 "metadata": {
  "kernelspec": {
   "display_name": "Python 3",
   "language": "python",
   "name": "python3"
  },
  "language_info": {
   "codemirror_mode": {
    "name": "ipython",
    "version": 3
   },
   "file_extension": ".py",
   "mimetype": "text/x-python",
   "name": "python",
   "nbconvert_exporter": "python",
   "pygments_lexer": "ipython3",
   "version": "3.6.6"
  },
  "toc": {
   "base_numbering": 1,
   "nav_menu": {},
   "number_sections": true,
   "sideBar": true,
   "skip_h1_title": false,
   "title_cell": "Table of Contents",
   "title_sidebar": "Contents",
   "toc_cell": false,
   "toc_position": {},
   "toc_section_display": true,
   "toc_window_display": false
  }
 },
 "nbformat": 4,
 "nbformat_minor": 2
}
